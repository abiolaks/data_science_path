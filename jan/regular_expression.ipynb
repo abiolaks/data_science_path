{
 "cells": [
  {
   "cell_type": "markdown",
   "id": "90298f9d",
   "metadata": {},
   "source": [
    "### The most common uses of regular expressions are:\n",
    "* search a string(search and match)\n",
    "* finding a string(findall)\n",
    "* Break string into a sub strings(split)\n",
    "* Replace part of a string(sub)\n",
    "\n",
    "### The various methods of Regular Expressions\n",
    "\n",
    "* re.match()\n",
    "* re.search()\n",
    "* re.findall()\n",
    "* re.split()\n",
    "* re.sub()\n",
    "* re.compile()"
   ]
  },
  {
   "cell_type": "markdown",
   "id": "b16bf74b",
   "metadata": {},
   "source": [
    "re.match finds match if it occurs at start of the string"
   ]
  },
  {
   "cell_type": "code",
   "execution_count": 1,
   "id": "567a6531",
   "metadata": {},
   "outputs": [
    {
     "name": "stdout",
     "output_type": "stream",
     "text": [
      "<re.Match object; span=(0, 2), match='AV'>\n"
     ]
    }
   ],
   "source": [
    "import re\n",
    "result = re.match(r'AV', 'AV Analytics Vidhya AV')\n",
    "print(result)"
   ]
  },
  {
   "cell_type": "code",
   "execution_count": 6,
   "id": "9061394f",
   "metadata": {},
   "outputs": [
    {
     "name": "stdout",
     "output_type": "stream",
     "text": [
      "AV\n"
     ]
    }
   ],
   "source": [
    "# to view the match string use the group method\n",
    "print(result.group(0))"
   ]
  },
  {
   "cell_type": "code",
   "execution_count": 13,
   "id": "55289248",
   "metadata": {},
   "outputs": [
    {
     "name": "stdout",
     "output_type": "stream",
     "text": [
      "0\n",
      "2\n"
     ]
    }
   ],
   "source": [
    "# There are method like start() and end() \n",
    "# to know the start and end position of matching pattern in the string\n",
    "print(result.start())\n",
    "print(result.end())"
   ]
  },
  {
   "cell_type": "markdown",
   "id": "7dee3646",
   "metadata": {},
   "source": [
    "The search() method is able to find a pattern from any position o f the string but it only returns the first occurence of the search pattern"
   ]
  },
  {
   "cell_type": "code",
   "execution_count": 15,
   "id": "784b5757",
   "metadata": {},
   "outputs": [
    {
     "name": "stdout",
     "output_type": "stream",
     "text": [
      "Vidhya\n"
     ]
    }
   ],
   "source": [
    "# using re.search(pattern, sting)\n",
    "# this does not restrict us from finding match at the beginning of the string only\n",
    "result = re.search(r'Vidhya', 'AV Analytics Vidhya AV ')\n",
    "print(result.group(0))"
   ]
  },
  {
   "cell_type": "markdown",
   "id": "db3a9bd6",
   "metadata": {},
   "source": [
    "Using the re.findall(pattern, string):It helps to get a list of matching patterns,It has no constraints of searching from start or end.Use findall, it can work like search() and match()"
   ]
  },
  {
   "cell_type": "code",
   "execution_count": 16,
   "id": "9357b5b1",
   "metadata": {},
   "outputs": [
    {
     "name": "stdout",
     "output_type": "stream",
     "text": [
      "['AV', 'AV']\n"
     ]
    }
   ],
   "source": [
    "result = re.findall(r'AV', 'AV Analytics Vidhya AV')\n",
    "print(result)"
   ]
  },
  {
   "cell_type": "markdown",
   "id": "9a2d4612",
   "metadata": {},
   "source": [
    "Using the re.split(pattern, string,[maxsplit=0]:\n",
    "This method helps to split by the occurence of given pattern\n",
    "\n"
   ]
  },
  {
   "cell_type": "code",
   "execution_count": 17,
   "id": "18ee163f",
   "metadata": {},
   "outputs": [
    {
     "name": "stdout",
     "output_type": "stream",
     "text": [
      "['Anal', 'tics']\n"
     ]
    }
   ],
   "source": [
    "result = re.split(r'y','Analytics')\n",
    "print(result)"
   ]
  },
  {
   "cell_type": "markdown",
   "id": "b1981171",
   "metadata": {},
   "source": [
    "More operations on split()"
   ]
  },
  {
   "cell_type": "code",
   "execution_count": 3,
   "id": "7e9a1dcf",
   "metadata": {},
   "outputs": [
    {
     "name": "stdout",
     "output_type": "stream",
     "text": [
      "['Analyt', 'cs V', 'dhya']\n"
     ]
    }
   ],
   "source": [
    "result = re.split(r'i', 'Analytics Vidhya')\n",
    "print(result)"
   ]
  },
  {
   "cell_type": "code",
   "execution_count": 4,
   "id": "c1935929",
   "metadata": {},
   "outputs": [
    {
     "data": {
      "text/plain": [
       "['Analyt', 'cs Vidhya']"
      ]
     },
     "execution_count": 4,
     "metadata": {},
     "output_type": "execute_result"
    }
   ],
   "source": [
    "# using the maxsplit \n",
    "result = re.split(r'i', 'Analytics Vidhya', maxsplit=1)\n",
    "result"
   ]
  },
  {
   "cell_type": "markdown",
   "id": "c12e1415",
   "metadata": {},
   "source": [
    "Using the re.sub method\n",
    "it helps to search a pattern and replace with a new sub string. if the pattern is not found string is returned unchange"
   ]
  },
  {
   "cell_type": "code",
   "execution_count": 5,
   "id": "1eba7aa2",
   "metadata": {},
   "outputs": [
    {
     "data": {
      "text/plain": [
       "'AV is largest Analytics Community of the World'"
      ]
     },
     "execution_count": 5,
     "metadata": {},
     "output_type": "execute_result"
    }
   ],
   "source": [
    "result = re.sub(r'India', 'the World', 'AV is largest Analytics Community of India')\n",
    "result"
   ]
  },
  {
   "cell_type": "markdown",
   "id": "7d5df948",
   "metadata": {},
   "source": [
    "Understanding the re.compile methods\n",
    "this allows us to combine a regular expression pattern into pattern objects which can be used for pattern matching. It helps to search a pattern again without rewriting it"
   ]
  },
  {
   "cell_type": "code",
   "execution_count": 6,
   "id": "d69fa05e",
   "metadata": {},
   "outputs": [
    {
     "name": "stdout",
     "output_type": "stream",
     "text": [
      "['AV', 'AV']\n"
     ]
    }
   ],
   "source": [
    "# definining pattern - 'AV'\n",
    "pattern = re.compile('AV')\n",
    "result = pattern.findall('AV Analytics Vidyha AV')\n",
    "print(result)\n"
   ]
  },
  {
   "cell_type": "code",
   "execution_count": 8,
   "id": "4c30a103",
   "metadata": {},
   "outputs": [
    {
     "name": "stdout",
     "output_type": "stream",
     "text": [
      "['AV']\n"
     ]
    }
   ],
   "source": [
    "result2 = pattern.findall('AV is largest analytics community of India')\n",
    "print(result2)"
   ]
  },
  {
   "cell_type": "markdown",
   "id": "4a5cf021",
   "metadata": {},
   "source": [
    "Working with and using Pattern operators"
   ]
  },
  {
   "cell_type": "code",
   "execution_count": 2,
   "id": "e1f72e41",
   "metadata": {},
   "outputs": [
    {
     "name": "stdout",
     "output_type": "stream",
     "text": [
      "['A', 'V', ' ', 'i', 's', ' ', 'l', 'a', 'r', 'g', 'e', 's', 't', ' ', 'A', 'n', 'a', 'l', 'y', 't', 'i', 'c', 's', ' ', 'C', 'o', 'm', 'm', 'u', 'n', 'i', 't', 'y', ' ', 'o', 'f', ' ', 'I', 'n', 'd', 'i', 'a']\n"
     ]
    }
   ],
   "source": [
    "# using '.' operator: this matches with any single character execept newline \\n\n",
    "#this return all the character with space\n",
    "result = re.findall(r'.','AV is largest Analytics Community of India')\n",
    "print(result)"
   ]
  },
  {
   "cell_type": "markdown",
   "id": "add79ca0",
   "metadata": {},
   "source": [
    "Note: in the above matching the space is also extracted to avoid it use \\w operator instead of '.' operator\n"
   ]
  },
  {
   "cell_type": "code",
   "execution_count": 6,
   "id": "5b39da94",
   "metadata": {},
   "outputs": [
    {
     "name": "stdout",
     "output_type": "stream",
     "text": [
      "['AV', 'is', 'largest', 'Analytics', 'Community', 'of', 'India', '34']\n"
     ]
    }
   ],
   "source": [
    "# returning each character in the string without space\n",
    "#\\w matches alphanumeric characters\n",
    "result = re.findall(r'\\w','AV is largest Analytics Community of India 34')\n",
    "print(result)"
   ]
  },
  {
   "cell_type": "markdown",
   "id": "0b9a89b3",
   "metadata": {},
   "source": [
    "Let extract each word using '*' or '+' operator\n",
    "\n",
    "* '*': this match O or more occurence of the pattern to it left\n",
    "* '+':this matches 1 or more occurence of the pattern to its left\n"
   ]
  },
  {
   "cell_type": "code",
   "execution_count": 4,
   "id": "cbe834a7",
   "metadata": {},
   "outputs": [
    {
     "name": "stdout",
     "output_type": "stream",
     "text": [
      "['AV', '', 'is', '', 'largest', '', 'Analytics', '', 'Community', '', 'of', '', 'India', '']\n"
     ]
    }
   ],
   "source": [
    "result = re.findall(r'\\w*','AV is largest Analytics Community of India')\n",
    "print(result)"
   ]
  },
  {
   "cell_type": "code",
   "execution_count": 5,
   "id": "b888f387",
   "metadata": {},
   "outputs": [
    {
     "name": "stdout",
     "output_type": "stream",
     "text": [
      "['AV', 'is', 'largest', 'Analytics', 'community', 'of', 'India']\n"
     ]
    }
   ],
   "source": [
    "# to remove the spaces in the above use  the + operator\n",
    "result = re.findall(r'\\w+','AV is largest Analytics community of India')\n",
    "print(result)"
   ]
  },
  {
   "cell_type": "code",
   "execution_count": 7,
   "id": "07aa211c",
   "metadata": {},
   "outputs": [
    {
     "name": "stdout",
     "output_type": "stream",
     "text": [
      "['AV']\n"
     ]
    }
   ],
   "source": [
    "# returning the first word using the ^ operator\n",
    "result = re.findall(r'^\\w+','AV is largest Analytics community of India')\n",
    "print(result)"
   ]
  },
  {
   "cell_type": "code",
   "execution_count": 7,
   "id": "0e88bedb",
   "metadata": {},
   "outputs": [
    {
     "name": "stdout",
     "output_type": "stream",
     "text": [
      "['India']\n"
     ]
    }
   ],
   "source": [
    "# returning the  last word using the $ operator\n",
    "result = re.findall(r'\\w+$','AV is largest Analytics community of India')\n",
    "print(result)"
   ]
  },
  {
   "cell_type": "markdown",
   "id": "cde81330",
   "metadata": {},
   "source": [
    "### Lets Return the first two character of each word"
   ]
  },
  {
   "cell_type": "code",
   "execution_count": 8,
   "id": "b0fb06ba",
   "metadata": {},
   "outputs": [
    {
     "name": "stdout",
     "output_type": "stream",
     "text": [
      "['AV', 'is', 'la', 'rg', 'es', 'An', 'al', 'yt', 'ic', 'co', 'mm', 'un', 'it', 'of', 'In', 'di']\n"
     ]
    }
   ],
   "source": [
    "# extracting consecutive two characters of each word\n",
    "# excluding spaces(using the '\\w')\n",
    "result = re.findall(r'\\w\\w','AV is largest Analytics community of India')\n",
    "print(result)"
   ]
  },
  {
   "cell_type": "code",
   "execution_count": 9,
   "id": "f82cff3c",
   "metadata": {},
   "outputs": [
    {
     "name": "stdout",
     "output_type": "stream",
     "text": [
      "['AV', 'is', 'la', 'An', 'co', 'of', 'In']\n"
     ]
    }
   ],
   "source": [
    "# extract consecutive two characters those available at start of word boundary\n",
    "# using the '\\b' operator\n",
    "result = re.findall(r'\\b\\w.','AV is largest Analytics community of India')\n",
    "print(result)"
   ]
  },
  {
   "cell_type": "markdown",
   "id": "dc3d2031",
   "metadata": {},
   "source": [
    "### Return the domain type of given email-ids\n"
   ]
  },
  {
   "cell_type": "code",
   "execution_count": 11,
   "id": "886cae2c",
   "metadata": {},
   "outputs": [
    {
     "name": "stdout",
     "output_type": "stream",
     "text": [
      "['@gmail', '@test', '@analyticsvidhya', '@rest']\n"
     ]
    }
   ],
   "source": [
    "# Extract all characters after \"@\"\n",
    "result = re.findall(r'@\\w+','abc.test@gmail.com, xyz@test.in, test.first@analyticsvidhya.com, first.test@rest.biz')\n",
    "print(result)"
   ]
  },
  {
   "cell_type": "code",
   "execution_count": 12,
   "id": "71037680",
   "metadata": {},
   "outputs": [
    {
     "name": "stdout",
     "output_type": "stream",
     "text": [
      "['@gmail.com', '@test.in', '@analyticsvidhya.com', '@rest.biz']\n"
     ]
    }
   ],
   "source": [
    "# Extract all characters after \"@\" and adding the .com\n",
    "result = re.findall(r'@\\w+.\\w+','abc.test@gmail.com, xyz@test.in, test.first@analyticsvidhya.com, first.test@rest.biz')\n",
    "print(result)"
   ]
  },
  {
   "cell_type": "code",
   "execution_count": 13,
   "id": "0052c349",
   "metadata": {},
   "outputs": [
    {
     "name": "stdout",
     "output_type": "stream",
     "text": [
      "['com', 'in', 'com', 'biz']\n"
     ]
    }
   ],
   "source": [
    "#extract only domain name usng () operator\n",
    "result = re.findall(r'@\\w+.(\\w+)','abc.test@gmail.com, xyz@test.in, test.first@analyticsvidhya.com, first.test@rest.biz')\n",
    "print(result)"
   ]
  },
  {
   "cell_type": "code",
   "execution_count": 14,
   "id": "08b66990",
   "metadata": {},
   "outputs": [],
   "source": [
    "# Return data from given string\n",
    "# here we will use \\d operator to extract digit\n",
    "result = re.findall(r'\\d{2}-\\d{2}-\\d{4}','Amit 34-3456 12-05-2007, XYZ 56-4532 11-11-2011, ABC 67-8945 12-01-2009')"
   ]
  },
  {
   "cell_type": "code",
   "execution_count": 15,
   "id": "ccc5e366",
   "metadata": {},
   "outputs": [
    {
     "name": "stdout",
     "output_type": "stream",
     "text": [
      "['12-05-2007', '11-11-2011', '12-01-2009']\n"
     ]
    }
   ],
   "source": [
    "print(result)"
   ]
  },
  {
   "cell_type": "code",
   "execution_count": 16,
   "id": "c6c0e922",
   "metadata": {},
   "outputs": [
    {
     "name": "stdout",
     "output_type": "stream",
     "text": [
      "['2007', '2011', '2009']\n"
     ]
    }
   ],
   "source": [
    "# to extract only the year using the () operator\n",
    "result = re.findall(r'\\d{2}-\\d{2}-(\\d{4})','Amit 34-3456 12-05-2007, XYZ 56-4532 11-11-2011, ABC 67-8945 12-01-2009')\n",
    "print(result)"
   ]
  },
  {
   "cell_type": "code",
   "execution_count": 17,
   "id": "6bd95124",
   "metadata": {},
   "outputs": [
    {
     "name": "stdout",
     "output_type": "stream",
     "text": [
      "['AV', 'is', 'argest', 'Analytics', 'ommunity', 'of', 'India']\n"
     ]
    }
   ],
   "source": [
    "# Return words that starts with alphabets(using[])\n",
    "result = re.findall(r'[aeiouAEIOU]\\w+','AV is largest Analytics community of India')\n",
    "print(result)"
   ]
  },
  {
   "cell_type": "code",
   "execution_count": 10,
   "id": "bb33befb",
   "metadata": {},
   "outputs": [
    {
     "name": "stdout",
     "output_type": "stream",
     "text": [
      "['AV', 'is', 'argest', 'Analytics', 'ommunity', 'of', 'India']\n"
     ]
    }
   ],
   "source": [
    "result = re.findall(r'[aeiouAEIOU]\\w+','AV is largest Analytics community of India')\n",
    "print(result)"
   ]
  },
  {
   "cell_type": "code",
   "execution_count": 11,
   "id": "f1794b5a",
   "metadata": {},
   "outputs": [
    {
     "name": "stdout",
     "output_type": "stream",
     "text": [
      "['AV', 'is', 'Analytics', 'of', 'India']\n"
     ]
    }
   ],
   "source": [
    "result = re.findall(r'\\b[aeiouAEIOU]\\w+','AV is largest Analytics community of India')\n",
    "print(result)"
   ]
  },
  {
   "cell_type": "code",
   "execution_count": null,
   "id": "9ed31397",
   "metadata": {},
   "outputs": [],
   "source": []
  }
 ],
 "metadata": {
  "kernelspec": {
   "display_name": "Python 3",
   "language": "python",
   "name": "python3"
  },
  "language_info": {
   "codemirror_mode": {
    "name": "ipython",
    "version": 3
   },
   "file_extension": ".py",
   "mimetype": "text/x-python",
   "name": "python",
   "nbconvert_exporter": "python",
   "pygments_lexer": "ipython3",
   "version": "3.9.7"
  }
 },
 "nbformat": 4,
 "nbformat_minor": 5
}

{
 "cells": [
  {
   "cell_type": "code",
   "execution_count": 1,
   "id": "4d6bdf44",
   "metadata": {},
   "outputs": [
    {
     "name": "stdout",
     "output_type": "stream",
     "text": [
      "string: C:\\desktop\n",
      "athan\n"
     ]
    }
   ],
   "source": [
    "# undertanding python raw strings and the normal string\n",
    "path = \"C:\\desktop\\nathan\"\n",
    "print(\"string:\", path)"
   ]
  },
  {
   "cell_type": "code",
   "execution_count": 3,
   "id": "d77c585d",
   "metadata": {},
   "outputs": [
    {
     "name": "stdout",
     "output_type": "stream",
     "text": [
      "raw string: C:\\desktop\\nathan\n"
     ]
    }
   ],
   "source": [
    "# for the raw string\n",
    "\n",
    "path = r\"C:\\desktop\\nathan\"\n",
    "print(\"raw string:\", path)"
   ]
  },
  {
   "cell_type": "markdown",
   "id": "d5789ea7",
   "metadata": {},
   "source": [
    "Python raw string treats backslash \\ as a literal character,so always use raw string while dealing with regular expressions.\n",
    "\n",
    "### Commonly use regex method in python\n",
    "* re.match(regex, text of file)\n",
    "* re.search(pattern, text or file)\n",
    "* re.findall(pattern, text or file)"
   ]
  },
  {
   "cell_type": "code",
   "execution_count": 24,
   "id": "28c5681d",
   "metadata": {},
   "outputs": [
    {
     "name": "stdout",
     "output_type": "stream",
     "text": [
      "None\n"
     ]
    }
   ],
   "source": [
    "import re # python module for regex expression\n",
    "\n",
    "# match a word at the beginning of a string\n",
    "\n",
    "result = re.match('Nigeria', r'China is the largest economy in Africa with over a population of 200 Million, Nigeria people' )\n",
    "\n",
    "            "
   ]
  },
  {
   "cell_type": "code",
   "execution_count": 25,
   "id": "2aa3916c",
   "metadata": {},
   "outputs": [
    {
     "ename": "AttributeError",
     "evalue": "'NoneType' object has no attribute 'group'",
     "output_type": "error",
     "traceback": [
      "\u001b[0;31m---------------------------------------------------------------------------\u001b[0m",
      "\u001b[0;31mAttributeError\u001b[0m                            Traceback (most recent call last)",
      "\u001b[0;32m/tmp/ipykernel_4382/167255396.py\u001b[0m in \u001b[0;36m<module>\u001b[0;34m\u001b[0m\n\u001b[0;32m----> 1\u001b[0;31m \u001b[0mprint\u001b[0m\u001b[0;34m(\u001b[0m\u001b[0mresult\u001b[0m\u001b[0;34m.\u001b[0m\u001b[0mgroup\u001b[0m\u001b[0;34m(\u001b[0m\u001b[0;34m)\u001b[0m\u001b[0;34m)\u001b[0m\u001b[0;34m\u001b[0m\u001b[0;34m\u001b[0m\u001b[0m\n\u001b[0m",
      "\u001b[0;31mAttributeError\u001b[0m: 'NoneType' object has no attribute 'group'"
     ]
    }
   ],
   "source": [
    "print(result.group())"
   ]
  },
  {
   "cell_type": "code",
   "execution_count": null,
   "id": "268da8b9",
   "metadata": {},
   "outputs": [],
   "source": []
  }
 ],
 "metadata": {
  "kernelspec": {
   "display_name": "Python [conda env:data-work] *",
   "language": "python",
   "name": "conda-env-data-work-py"
  },
  "language_info": {
   "codemirror_mode": {
    "name": "ipython",
    "version": 3
   },
   "file_extension": ".py",
   "mimetype": "text/x-python",
   "name": "python",
   "nbconvert_exporter": "python",
   "pygments_lexer": "ipython3",
   "version": "3.9.7"
  }
 },
 "nbformat": 4,
 "nbformat_minor": 5
}

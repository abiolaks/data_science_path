{
 "cells": [
  {
   "cell_type": "code",
   "execution_count": 10,
   "id": "938e5363",
   "metadata": {},
   "outputs": [
    {
     "name": "stdout",
     "output_type": "stream",
     "text": [
      "49\n",
      "617\n",
      "5\n",
      "2\n"
     ]
    }
   ],
   "source": [
    "# Arithmetic operators\n",
    "print(56-7)\n",
    "print(50 + 567)\n",
    "print(45//8) # does not returns the decimal path but just the integer\n",
    "print(6%4) # returns the remainder"
   ]
  },
  {
   "cell_type": "markdown",
   "id": "8eff8e2e",
   "metadata": {},
   "source": [
    "print(3>5)\n"
   ]
  },
  {
   "cell_type": "markdown",
   "id": "ea467b23",
   "metadata": {},
   "source": [
    "Logical Operators"
   ]
  },
  {
   "cell_type": "code",
   "execution_count": 14,
   "id": "458b2a29",
   "metadata": {},
   "outputs": [
    {
     "data": {
      "text/plain": [
       "1"
      ]
     },
     "execution_count": 14,
     "metadata": {},
     "output_type": "execute_result"
    }
   ],
   "source": [
    "# and returns the first false value and if not found returns the true the second true value\n",
    "1 and 1\n"
   ]
  },
  {
   "cell_type": "code",
   "execution_count": 15,
   "id": "751e848c",
   "metadata": {},
   "outputs": [
    {
     "data": {
      "text/plain": [
       "0"
      ]
     },
     "execution_count": 15,
     "metadata": {},
     "output_type": "execute_result"
    }
   ],
   "source": [
    "0 and 3"
   ]
  },
  {
   "cell_type": "code",
   "execution_count": 16,
   "id": "474518e9",
   "metadata": {},
   "outputs": [
    {
     "data": {
      "text/plain": [
       "5"
      ]
     },
     "execution_count": 16,
     "metadata": {},
     "output_type": "execute_result"
    }
   ],
   "source": [
    "3 and 5"
   ]
  },
  {
   "cell_type": "code",
   "execution_count": 17,
   "id": "f13f9c58",
   "metadata": {},
   "outputs": [
    {
     "data": {
      "text/plain": [
       "2"
      ]
     },
     "execution_count": 17,
     "metadata": {},
     "output_type": "execute_result"
    }
   ],
   "source": [
    "# or returns the first true value\n",
    "2 or 0"
   ]
  },
  {
   "cell_type": "code",
   "execution_count": 18,
   "id": "96cf5edd",
   "metadata": {},
   "outputs": [
    {
     "data": {
      "text/plain": [
       "4"
      ]
     },
     "execution_count": 18,
     "metadata": {},
     "output_type": "execute_result"
    }
   ],
   "source": [
    "0 or 4"
   ]
  },
  {
   "cell_type": "code",
   "execution_count": 19,
   "id": "26f9ff63",
   "metadata": {},
   "outputs": [
    {
     "data": {
      "text/plain": [
       "2"
      ]
     },
     "execution_count": 19,
     "metadata": {},
     "output_type": "execute_result"
    }
   ],
   "source": [
    "2 or 4 "
   ]
  },
  {
   "cell_type": "code",
   "execution_count": null,
   "id": "32765f57",
   "metadata": {},
   "outputs": [],
   "source": []
  }
 ],
 "metadata": {
  "kernelspec": {
   "display_name": "Python 3",
   "language": "python",
   "name": "python3"
  },
  "language_info": {
   "codemirror_mode": {
    "name": "ipython",
    "version": 3
   },
   "file_extension": ".py",
   "mimetype": "text/x-python",
   "name": "python",
   "nbconvert_exporter": "python",
   "pygments_lexer": "ipython3",
   "version": "3.9.7"
  }
 },
 "nbformat": 4,
 "nbformat_minor": 5
}
